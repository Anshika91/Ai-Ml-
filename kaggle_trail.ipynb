{
  "nbformat": 4,
  "nbformat_minor": 0,
  "metadata": {
    "colab": {
      "provenance": [],
      "authorship_tag": "ABX9TyM1gQnHpJj0aO4L2TWIyAob",
      "include_colab_link": true
    },
    "kernelspec": {
      "name": "python3",
      "display_name": "Python 3"
    },
    "language_info": {
      "name": "python"
    }
  },
  "cells": [
    {
      "cell_type": "markdown",
      "metadata": {
        "id": "view-in-github",
        "colab_type": "text"
      },
      "source": [
        "<a href=\"https://colab.research.google.com/github/Anshika91/Ai-Ml-/blob/main/kaggle_trail.ipynb\" target=\"_parent\"><img src=\"https://colab.research.google.com/assets/colab-badge.svg\" alt=\"Open In Colab\"/></a>"
      ]
    },
    {
      "cell_type": "markdown",
      "source": [
        "install kaggle\n"
      ],
      "metadata": {
        "id": "2Ks-ho_GSJVW"
      }
    },
    {
      "cell_type": "code",
      "execution_count": 13,
      "metadata": {
        "id": "WnN5nB7PO_9i"
      },
      "outputs": [],
      "source": [
        "!pip install -q kaggle"
      ]
    },
    {
      "cell_type": "markdown",
      "source": [
        "import files"
      ],
      "metadata": {
        "id": "y8Ne5hsISNWE"
      }
    },
    {
      "cell_type": "code",
      "source": [
        "from google.colab import files\n",
        "files.upload()"
      ],
      "metadata": {
        "colab": {
          "base_uri": "https://localhost:8080/",
          "height": 90
        },
        "id": "G4RPsPQDPMVJ",
        "outputId": "c5a17973-6cfa-4366-d253-c567197cfce0"
      },
      "execution_count": 14,
      "outputs": [
        {
          "output_type": "display_data",
          "data": {
            "text/plain": [
              "<IPython.core.display.HTML object>"
            ],
            "text/html": [
              "\n",
              "     <input type=\"file\" id=\"files-54f6037a-3e88-4ce6-ab39-7d41d6a9daa7\" name=\"files[]\" multiple disabled\n",
              "        style=\"border:none\" />\n",
              "     <output id=\"result-54f6037a-3e88-4ce6-ab39-7d41d6a9daa7\">\n",
              "      Upload widget is only available when the cell has been executed in the\n",
              "      current browser session. Please rerun this cell to enable.\n",
              "      </output>\n",
              "      <script>// Copyright 2017 Google LLC\n",
              "//\n",
              "// Licensed under the Apache License, Version 2.0 (the \"License\");\n",
              "// you may not use this file except in compliance with the License.\n",
              "// You may obtain a copy of the License at\n",
              "//\n",
              "//      http://www.apache.org/licenses/LICENSE-2.0\n",
              "//\n",
              "// Unless required by applicable law or agreed to in writing, software\n",
              "// distributed under the License is distributed on an \"AS IS\" BASIS,\n",
              "// WITHOUT WARRANTIES OR CONDITIONS OF ANY KIND, either express or implied.\n",
              "// See the License for the specific language governing permissions and\n",
              "// limitations under the License.\n",
              "\n",
              "/**\n",
              " * @fileoverview Helpers for google.colab Python module.\n",
              " */\n",
              "(function(scope) {\n",
              "function span(text, styleAttributes = {}) {\n",
              "  const element = document.createElement('span');\n",
              "  element.textContent = text;\n",
              "  for (const key of Object.keys(styleAttributes)) {\n",
              "    element.style[key] = styleAttributes[key];\n",
              "  }\n",
              "  return element;\n",
              "}\n",
              "\n",
              "// Max number of bytes which will be uploaded at a time.\n",
              "const MAX_PAYLOAD_SIZE = 100 * 1024;\n",
              "\n",
              "function _uploadFiles(inputId, outputId) {\n",
              "  const steps = uploadFilesStep(inputId, outputId);\n",
              "  const outputElement = document.getElementById(outputId);\n",
              "  // Cache steps on the outputElement to make it available for the next call\n",
              "  // to uploadFilesContinue from Python.\n",
              "  outputElement.steps = steps;\n",
              "\n",
              "  return _uploadFilesContinue(outputId);\n",
              "}\n",
              "\n",
              "// This is roughly an async generator (not supported in the browser yet),\n",
              "// where there are multiple asynchronous steps and the Python side is going\n",
              "// to poll for completion of each step.\n",
              "// This uses a Promise to block the python side on completion of each step,\n",
              "// then passes the result of the previous step as the input to the next step.\n",
              "function _uploadFilesContinue(outputId) {\n",
              "  const outputElement = document.getElementById(outputId);\n",
              "  const steps = outputElement.steps;\n",
              "\n",
              "  const next = steps.next(outputElement.lastPromiseValue);\n",
              "  return Promise.resolve(next.value.promise).then((value) => {\n",
              "    // Cache the last promise value to make it available to the next\n",
              "    // step of the generator.\n",
              "    outputElement.lastPromiseValue = value;\n",
              "    return next.value.response;\n",
              "  });\n",
              "}\n",
              "\n",
              "/**\n",
              " * Generator function which is called between each async step of the upload\n",
              " * process.\n",
              " * @param {string} inputId Element ID of the input file picker element.\n",
              " * @param {string} outputId Element ID of the output display.\n",
              " * @return {!Iterable<!Object>} Iterable of next steps.\n",
              " */\n",
              "function* uploadFilesStep(inputId, outputId) {\n",
              "  const inputElement = document.getElementById(inputId);\n",
              "  inputElement.disabled = false;\n",
              "\n",
              "  const outputElement = document.getElementById(outputId);\n",
              "  outputElement.innerHTML = '';\n",
              "\n",
              "  const pickedPromise = new Promise((resolve) => {\n",
              "    inputElement.addEventListener('change', (e) => {\n",
              "      resolve(e.target.files);\n",
              "    });\n",
              "  });\n",
              "\n",
              "  const cancel = document.createElement('button');\n",
              "  inputElement.parentElement.appendChild(cancel);\n",
              "  cancel.textContent = 'Cancel upload';\n",
              "  const cancelPromise = new Promise((resolve) => {\n",
              "    cancel.onclick = () => {\n",
              "      resolve(null);\n",
              "    };\n",
              "  });\n",
              "\n",
              "  // Wait for the user to pick the files.\n",
              "  const files = yield {\n",
              "    promise: Promise.race([pickedPromise, cancelPromise]),\n",
              "    response: {\n",
              "      action: 'starting',\n",
              "    }\n",
              "  };\n",
              "\n",
              "  cancel.remove();\n",
              "\n",
              "  // Disable the input element since further picks are not allowed.\n",
              "  inputElement.disabled = true;\n",
              "\n",
              "  if (!files) {\n",
              "    return {\n",
              "      response: {\n",
              "        action: 'complete',\n",
              "      }\n",
              "    };\n",
              "  }\n",
              "\n",
              "  for (const file of files) {\n",
              "    const li = document.createElement('li');\n",
              "    li.append(span(file.name, {fontWeight: 'bold'}));\n",
              "    li.append(span(\n",
              "        `(${file.type || 'n/a'}) - ${file.size} bytes, ` +\n",
              "        `last modified: ${\n",
              "            file.lastModifiedDate ? file.lastModifiedDate.toLocaleDateString() :\n",
              "                                    'n/a'} - `));\n",
              "    const percent = span('0% done');\n",
              "    li.appendChild(percent);\n",
              "\n",
              "    outputElement.appendChild(li);\n",
              "\n",
              "    const fileDataPromise = new Promise((resolve) => {\n",
              "      const reader = new FileReader();\n",
              "      reader.onload = (e) => {\n",
              "        resolve(e.target.result);\n",
              "      };\n",
              "      reader.readAsArrayBuffer(file);\n",
              "    });\n",
              "    // Wait for the data to be ready.\n",
              "    let fileData = yield {\n",
              "      promise: fileDataPromise,\n",
              "      response: {\n",
              "        action: 'continue',\n",
              "      }\n",
              "    };\n",
              "\n",
              "    // Use a chunked sending to avoid message size limits. See b/62115660.\n",
              "    let position = 0;\n",
              "    do {\n",
              "      const length = Math.min(fileData.byteLength - position, MAX_PAYLOAD_SIZE);\n",
              "      const chunk = new Uint8Array(fileData, position, length);\n",
              "      position += length;\n",
              "\n",
              "      const base64 = btoa(String.fromCharCode.apply(null, chunk));\n",
              "      yield {\n",
              "        response: {\n",
              "          action: 'append',\n",
              "          file: file.name,\n",
              "          data: base64,\n",
              "        },\n",
              "      };\n",
              "\n",
              "      let percentDone = fileData.byteLength === 0 ?\n",
              "          100 :\n",
              "          Math.round((position / fileData.byteLength) * 100);\n",
              "      percent.textContent = `${percentDone}% done`;\n",
              "\n",
              "    } while (position < fileData.byteLength);\n",
              "  }\n",
              "\n",
              "  // All done.\n",
              "  yield {\n",
              "    response: {\n",
              "      action: 'complete',\n",
              "    }\n",
              "  };\n",
              "}\n",
              "\n",
              "scope.google = scope.google || {};\n",
              "scope.google.colab = scope.google.colab || {};\n",
              "scope.google.colab._files = {\n",
              "  _uploadFiles,\n",
              "  _uploadFilesContinue,\n",
              "};\n",
              "})(self);\n",
              "</script> "
            ]
          },
          "metadata": {}
        },
        {
          "output_type": "stream",
          "name": "stdout",
          "text": [
            "Saving kaggle.json to kaggle (2).json\n"
          ]
        },
        {
          "output_type": "execute_result",
          "data": {
            "text/plain": [
              "{'kaggle.json': b'{\"username\":\"anshi91\",\"key\":\"bb3f9a06a8f2e8cc8c70bbfa50e39c02\"}'}"
            ]
          },
          "metadata": {},
          "execution_count": 14
        }
      ]
    },
    {
      "cell_type": "markdown",
      "source": [
        "add directories"
      ],
      "metadata": {
        "id": "RwwwhSL7SQAJ"
      }
    },
    {
      "cell_type": "code",
      "source": [
        "! mkdir ~/.kaggle"
      ],
      "metadata": {
        "colab": {
          "base_uri": "https://localhost:8080/"
        },
        "id": "wjQTIxWaP2AB",
        "outputId": "ac54f3b1-0d65-4d1a-885d-e075add40ebb"
      },
      "execution_count": 15,
      "outputs": [
        {
          "output_type": "stream",
          "name": "stdout",
          "text": [
            "mkdir: cannot create directory ‘/root/.kaggle’: File exists\n"
          ]
        }
      ]
    },
    {
      "cell_type": "markdown",
      "source": [
        "add directories in folder"
      ],
      "metadata": {
        "id": "i_tRokzRSYjW"
      }
    },
    {
      "cell_type": "code",
      "source": [
        "! cp kaggle.json ~/.kaggle/"
      ],
      "metadata": {
        "id": "bYgz3f-zQRjN"
      },
      "execution_count": 16,
      "outputs": []
    },
    {
      "cell_type": "markdown",
      "source": [
        "give permission "
      ],
      "metadata": {
        "id": "VRoo1lh7SfC6"
      }
    },
    {
      "cell_type": "code",
      "source": [
        "! chmod 600 ~/.kaggle/kaggle.json"
      ],
      "metadata": {
        "id": "KxTb4a4SQhzk"
      },
      "execution_count": 19,
      "outputs": []
    },
    {
      "cell_type": "markdown",
      "source": [
        "list all datasets"
      ],
      "metadata": {
        "id": "s5ETqODfShwi"
      }
    },
    {
      "cell_type": "code",
      "source": [
        "! kaggle datasets list"
      ],
      "metadata": {
        "colab": {
          "base_uri": "https://localhost:8080/"
        },
        "id": "R4wSL3T-QyZQ",
        "outputId": "7803a259-197d-44d0-8155-0f4841f594d1"
      },
      "execution_count": 20,
      "outputs": [
        {
          "output_type": "stream",
          "name": "stdout",
          "text": [
            "ref                                                           title                                             size  lastUpdated          downloadCount  voteCount  usabilityRating  \n",
            "------------------------------------------------------------  -----------------------------------------------  -----  -------------------  -------------  ---------  ---------------  \n",
            "salvatorerastelli/spotify-and-youtube                         Spotify and Youtube                                9MB  2023-03-20 15:43:25           2913        115  1.0              \n",
            "ashishraut64/global-methane-emissions                         Global Emissions.                                 31KB  2023-03-27 09:02:51            555         22  1.0              \n",
            "thitiwat/top-100-most-expensive-football-transfers            ⚽ Top 100 most expensive football transfers        2KB  2023-03-27 04:06:28            438         21  1.0              \n",
            "davidms8/product-sales-detail                                 Product Sales - Detail 2023                        2MB  2023-03-15 14:50:30           1282         36  0.8235294        \n",
            "dgoenrique/netflix-movies-and-tv-shows                        Netflix Movies and TV Shows                        2MB  2023-03-13 18:49:00           1987         57  1.0              \n",
            "arnabchaki/popular-video-games-1980-2023                      Popular Video Games 1980 - 2023 🎮                  1MB  2023-03-23 16:16:51           1647         56  1.0              \n",
            "rkiattisak/student-performance-in-mathematics                 Student performance prediction                     9KB  2023-03-12 04:32:56           4216         91  1.0              \n",
            "usamabuttar/world-happiness-report-2005-present               World Happiness Report, 2005-Present             123KB  2023-03-25 17:38:26            981         29  1.0              \n",
            "datascientistanna/customers-dataset                           Shop Customer Data                                23KB  2023-02-07 18:42:21          16997        355  1.0              \n",
            "kylegraupe/ukrainerussia-conflict-dataset                     Ukraine/Russia Conflict Dataset                    4MB  2023-03-27 16:51:19            549         31  0.9411765        \n",
            "mehmettahiraslan/customer-shopping-dataset                    Customer Shopping Dataset - Retail Sales Data      2MB  2023-03-09 07:44:35           2817         70  1.0              \n",
            "ulrikthygepedersen/meat-consumption                           Meat Consumption                                 137KB  2023-03-02 09:59:13            757         23  1.0              \n",
            "rajkumarpandey02/list-of-countries-by-gdp-sector-composition  List of Countries by GDP Sector Composition        8KB  2023-03-20 04:42:10           1555         56  1.0              \n",
            "ajaypalsinghlo/world-happiness-report-2023                    World Happiness Report 2023                        7KB  2023-03-22 07:29:42           1271         39  0.9411765        \n",
            "amaanansari09/most-streamed-songs-all-time                    Most Streamed Songs (All Time)                     8KB  2023-03-08 10:56:24           3502         79  1.0              \n",
            "mazlumi/mbti-personality-type-twitter-dataset                 MBTI Personality Type Twitter Dataset             33MB  2023-03-22 12:11:45            332         28  1.0              \n",
            "shreyajagani13/used-car-dataset                               Used Car Dataset                                  12KB  2023-03-19 06:38:54           1390         33  1.0              \n",
            "hrokrin/the-largest-diamond-dataset-currely-on-kaggle         The largest diamond dataset currently on Kaggle    4MB  2023-03-16 20:29:04            450         23  1.0              \n",
            "dansbecker/melbourne-housing-snapshot                         Melbourne Housing Snapshot                       451KB  2018-06-05 12:52:24         111362       1234  0.7058824        \n",
            "darshanpatel3112/top-rated-movies-from-tmdb                   Top Rated Movies  from TMDB                        1MB  2023-03-22 12:56:39            734         31  1.0              \n"
          ]
        }
      ]
    },
    {
      "cell_type": "markdown",
      "source": [
        "import dataset"
      ],
      "metadata": {
        "id": "Z5HVbcLXSm_O"
      }
    },
    {
      "cell_type": "code",
      "source": [
        "! kaggle competitions download -c Credit-Card-Fraud-Detection-kernel-edition"
      ],
      "metadata": {
        "colab": {
          "base_uri": "https://localhost:8080/"
        },
        "id": "bk2xcCXWQ8Wp",
        "outputId": "fc796b36-4748-4b4c-a4e4-acd52e825bc5"
      },
      "execution_count": 22,
      "outputs": [
        {
          "output_type": "stream",
          "name": "stdout",
          "text": [
            "403 - Forbidden\n"
          ]
        }
      ]
    },
    {
      "cell_type": "markdown",
      "source": [
        "unzip train files"
      ],
      "metadata": {
        "id": "W7F1zmLETtQf"
      }
    },
    {
      "cell_type": "code",
      "source": [
        "! unzip train.zip"
      ],
      "metadata": {
        "colab": {
          "base_uri": "https://localhost:8080/"
        },
        "id": "s23jArZ7TNLc",
        "outputId": "9ff5b6f5-6586-4a96-b4c3-b76f898d2354"
      },
      "execution_count": 23,
      "outputs": [
        {
          "output_type": "stream",
          "name": "stdout",
          "text": [
            "unzip:  cannot find or open train.zip, train.zip.zip or train.zip.ZIP.\n"
          ]
        }
      ]
    },
    {
      "cell_type": "markdown",
      "source": [
        "unzip test file"
      ],
      "metadata": {
        "id": "hjineVuUT7hq"
      }
    },
    {
      "cell_type": "code",
      "source": [
        "! unzip test.zip"
      ],
      "metadata": {
        "colab": {
          "base_uri": "https://localhost:8080/"
        },
        "id": "Rh9lsn-OT3sf",
        "outputId": "0897721e-0def-40d6-8a28-5eed0fa897da"
      },
      "execution_count": 24,
      "outputs": [
        {
          "output_type": "stream",
          "name": "stdout",
          "text": [
            "unzip:  cannot find or open test.zip, test.zip.zip or test.zip.ZIP.\n"
          ]
        }
      ]
    },
    {
      "cell_type": "code",
      "source": [],
      "metadata": {
        "id": "kJ2BZduUT60O"
      },
      "execution_count": null,
      "outputs": []
    }
  ]
}