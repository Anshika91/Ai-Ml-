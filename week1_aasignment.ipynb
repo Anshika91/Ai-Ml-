{
  "nbformat": 4,
  "nbformat_minor": 0,
  "metadata": {
    "colab": {
      "provenance": [],
      "authorship_tag": "ABX9TyMWZAlN8IbQcbG5QafZCizF",
      "include_colab_link": true
    },
    "kernelspec": {
      "name": "python3",
      "display_name": "Python 3"
    },
    "language_info": {
      "name": "python"
    }
  },
  "cells": [
    {
      "cell_type": "markdown",
      "metadata": {
        "id": "view-in-github",
        "colab_type": "text"
      },
      "source": [
        "<a href=\"https://colab.research.google.com/github/Anshika91/Ai-Ml-/blob/main/week1_aasignment.ipynb\" target=\"_parent\"><img src=\"https://colab.research.google.com/assets/colab-badge.svg\" alt=\"Open In Colab\"/></a>"
      ]
    },
    {
      "cell_type": "code",
      "source": [
        "def fun(x1,x2):\n",
        "    w1=1\n",
        "    w2=1\n",
        "    y=w1*x1 + w2*x2\n",
        "    print(\"output:\",y)\n",
        "x1 = int(input(\"Enter x1:\"))\n",
        "x2 = int(input(\"Enter x2:\"))\n",
        "fun(x1,x2)\n"
      ],
      "metadata": {
        "colab": {
          "base_uri": "https://localhost:8080/"
        },
        "id": "gILM6ku_HAji",
        "outputId": "06c5f9ea-704e-4d5a-94a7-34901ab56730"
      },
      "execution_count": 2,
      "outputs": [
        {
          "output_type": "stream",
          "name": "stdout",
          "text": [
            "Enter x1:1\n",
            "Enter x2:1\n",
            "output: 2\n"
          ]
        }
      ]
    },
    {
      "cell_type": "code",
      "source": [
        "x1=2\n",
        "x2=3\n",
        "w11=1\n",
        "w12=1\n",
        "w21=-1\n",
        "w22=1\n",
        "w1o=2\n",
        "w2o=-1\n",
        "n1 = w11*x1+w12*x2\n",
        "n2 = w21*x1+w22*x2\n",
        "no = w1o*n1+w2o*n2\n",
        "print(no)"
      ],
      "metadata": {
        "colab": {
          "base_uri": "https://localhost:8080/"
        },
        "id": "qdR43UbOHJg5",
        "outputId": "36f4d5a4-7e74-467f-87de-cf68533b9aa4"
      },
      "execution_count": 4,
      "outputs": [
        {
          "output_type": "stream",
          "name": "stdout",
          "text": [
            "9\n"
          ]
        }
      ]
    },
    {
      "cell_type": "code",
      "source": [
        "x1=2\n",
        "x2=3\n",
        "w11=1\n",
        "w12=1\n",
        "no = 2*(w11*x1+w12*x2)\n",
        "print(no)"
      ],
      "metadata": {
        "colab": {
          "base_uri": "https://localhost:8080/"
        },
        "id": "u2DQPavVJJXX",
        "outputId": "c1bea7f6-b600-492d-f159-4c963afa26f0"
      },
      "execution_count": 11,
      "outputs": [
        {
          "output_type": "stream",
          "name": "stdout",
          "text": [
            "10\n"
          ]
        }
      ]
    },
    {
      "cell_type": "code",
      "source": [
        "n=int(input(\"Enter the number of neurons in the hidden layer: \"))\n",
        "\n",
        "inputs=[]\n",
        "num=int(input(\"Number of Inputs:\"))\n",
        "print(\"Enter the inputs:\")\n",
        "for i in range(0,num):\n",
        "    x=int(input())\n",
        "    inputs.append(x)\n",
        "\n",
        "wts=[]\n",
        "print(\"Enter the weights of hidden layer:\")\n",
        "for i in range(0,num*n):\n",
        "    w=int(input())\n",
        "    wts.append(w)\n",
        "\n",
        "\n",
        "Wts=[]\n",
        "print(\"Enter the weights of output layer:\")\n",
        "for i in range(0,n):\n",
        "    W=int(input())\n",
        "    Wts.append(W)\n",
        "\n",
        "def percept(n,inputs,wts,Wts):\n",
        "    Ohp=[]\n",
        "    c=0\n",
        "    for i in range(0,n):\n",
        "        o=0\n",
        "        for j in range(0,num):\n",
        "            o=o+wts[c]*inputs[j]\n",
        "            c=c+1\n",
        "        Ohp.append(o)\n",
        "\n",
        "    y=0\n",
        "    for i in range(0,n):\n",
        "        y=y+Wts[i]*Ohp[i]\n",
        "\n",
        "    print(\"Output: \",y)\n",
        "\n",
        "percept(n,inputs,wts,Wts)"
      ],
      "metadata": {
        "colab": {
          "base_uri": "https://localhost:8080/"
        },
        "id": "ulYvyM77LcAs",
        "outputId": "3083c719-c26e-47a9-9e9e-0adb9b5118a2"
      },
      "execution_count": 14,
      "outputs": [
        {
          "output_type": "stream",
          "name": "stdout",
          "text": [
            "Enter the number of neurons in the hidden layer: 2\n",
            "Number of Inputs:2\n",
            "Enter the inputs:\n",
            "2\n",
            "3\n",
            "Enter the weights of hidden layer:\n",
            "1\n",
            "1\n",
            "-1\n",
            "1\n",
            "Enter the weights of output layer:\n",
            "2\n",
            "-1\n",
            "Output:  9\n"
          ]
        }
      ]
    },
    {
      "cell_type": "code",
      "source": [],
      "metadata": {
        "id": "YC7TGsJ-NO8_"
      },
      "execution_count": null,
      "outputs": []
    }
  ]
}