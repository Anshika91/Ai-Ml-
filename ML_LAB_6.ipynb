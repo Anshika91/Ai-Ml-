{
  "nbformat": 4,
  "nbformat_minor": 0,
  "metadata": {
    "colab": {
      "provenance": [],
      "authorship_tag": "ABX9TyNnajQnsF1q5wU6Zjx/stc7",
      "include_colab_link": true
    },
    "kernelspec": {
      "name": "python3",
      "display_name": "Python 3"
    },
    "language_info": {
      "name": "python"
    }
  },
  "cells": [
    {
      "cell_type": "markdown",
      "metadata": {
        "id": "view-in-github",
        "colab_type": "text"
      },
      "source": [
        "<a href=\"https://colab.research.google.com/github/Anshika91/Ai-Ml-/blob/main/ML_LAB_6.ipynb\" target=\"_parent\"><img src=\"https://colab.research.google.com/assets/colab-badge.svg\" alt=\"Open In Colab\"/></a>"
      ]
    },
    {
      "cell_type": "markdown",
      "source": [
        "                                                      NAME__ANSHIKA\n",
        "                                                      EN.NO_201B051\n",
        "                                                      BATHCH_BX(B2)\n",
        "                                                      LAB-6\n",
        "                                                      "
      ],
      "metadata": {
        "id": "ZxFrK8csCAsQ"
      }
    },
    {
      "cell_type": "code",
      "execution_count": null,
      "metadata": {
        "colab": {
          "base_uri": "https://localhost:8080/"
        },
        "id": "eqSW2U36APYV",
        "outputId": "73680f17-0f27-41c8-e03b-690d58087e1e"
      },
      "outputs": [
        {
          "output_type": "execute_result",
          "data": {
            "text/plain": [
              "(100, 1)"
            ]
          },
          "metadata": {},
          "execution_count": 1
        }
      ],
      "source": [
        "# 1.Create a dataset of 100 random values and store in X1.\n",
        "import numpy as np\n",
        "np.random.seed(42)\n",
        "X1=np.random.rand(100,1)\n",
        "X1.shape"
      ]
    },
    {
      "cell_type": "code",
      "source": [
        "# 2.Create a model for target y=4+3X1+some_random_values\n",
        "y = 4 + 3 * X1 + np.random.rand(100,1)"
      ],
      "metadata": {
        "id": "xLm3mFuw9X0X"
      },
      "execution_count": null,
      "outputs": []
    },
    {
      "cell_type": "code",
      "source": [
        "# 3.Use matplotlib to plot X and y.\n",
        "import matplotlib.pyplot as plt\n",
        "plt.scatter(X1,y)\n",
        "plt.xlabel(\"X1\")\n",
        "plt.ylabel(\"y\")\n",
        "plt.show()"
      ],
      "metadata": {
        "id": "R8WKjBoODP4Q",
        "colab": {
          "base_uri": "https://localhost:8080/",
          "height": 282
        },
        "outputId": "a2313b84-8bed-49a2-fb7e-6de4d67505fc"
      },
      "execution_count": null,
      "outputs": [
        {
          "output_type": "display_data",
          "data": {
            "text/plain": [
              "<Figure size 432x288 with 1 Axes>"
            ],
            "image/png": "[encoded data removed]"
          },
          "metadata": {
            "needs_background": "light"
          }
        }
      ]
    },
    {
      "cell_type": "code",
      "source": [
        "#4.Add x0=1 to each instanc of X1(use np.c_[np.ones((100,1)),X1])and store in X.\n",
        "X=np.c_[np.ones((100,1)),X1]"
      ],
      "metadata": {
        "id": "gJDzG_OI9f9U"
      },
      "execution_count": null,
      "outputs": []
    },
    {
      "cell_type": "code",
      "source": [
        "#5.Compute theta using the normal equation.Use the inv() function from\n",
        "# np.linalg to compute the inverse of a matix and the dot() method for\n",
        "# matrix multiplication.\n",
        "theta = np.linalg.inv(X.T.dot(X)).dot(X.T).dot(y)"
      ],
      "metadata": {
        "id": "jXMjqcMn9lBY"
      },
      "execution_count": null,
      "outputs": []
    },
    {
      "cell_type": "code",
      "source": [
        "# 6. Show the best value of 0 and 1 obtained in above computation.\n",
        "print(theta)"
      ],
      "metadata": {
        "colab": {
          "base_uri": "https://localhost:8080/"
        },
        "id": "1ixVcAgH9n3s",
        "outputId": "824ca110-31b0-432c-88b4-9957d6fe4d91"
      },
      "execution_count": null,
      "outputs": [
        {
          "output_type": "stream",
          "name": "stdout",
          "text": [
            "[[4.51359766]\n",
            " [2.96646836]]\n"
          ]
        }
      ]
    },
    {
      "cell_type": "code",
      "source": [
        "#7. a= np.array( [ [0], [2] ] ), add x0 = 1 to a and store it in a1, as you did\n",
        "# in 4, now make prediction for a1 and store the predicted values in pred, and\n",
        "# show the values stored in pred\n",
        "a = np.array([[0],[2]])\n",
        "a1 = np.c_[np.ones((2,1)),a]\n",
        "pred = a1.dot(theta)\n",
        "pred"
      ],
      "metadata": {
        "colab": {
          "base_uri": "https://localhost:8080/"
        },
        "id": "TncScWF89qez",
        "outputId": "f3ee9be0-b19e-451a-b8e0-59a08a9c4603"
      },
      "execution_count": null,
      "outputs": [
        {
          "output_type": "execute_result",
          "data": {
            "text/plain": [
              "array([[ 4.51359766],\n",
              "       [10.44653437]])"
            ]
          },
          "metadata": {},
          "execution_count": 7
        }
      ]
    },
    {
      "cell_type": "code",
      "source": [
        "# 8. Plot the line using new value a (as given above) and its predicted values\n",
        "# pred along with values of X1.\n",
        "plt.plot(a,pred,'-r')\n",
        "plt.plot(X1,y,'b.')\n",
        "plt.show()"
      ],
      "metadata": {
        "colab": {
          "base_uri": "https://localhost:8080/",
          "height": 265
        },
        "id": "_wJHgoTG9uzC",
        "outputId": "84c9ef2a-a8e3-4f71-df2d-2ce93f2ea056"
      },
      "execution_count": null,
      "outputs": [
        {
          "output_type": "display_data",
          "data": {
            "text/plain": [
              "<Figure size 432x288 with 1 Axes>"
            ],
            "image/png": "[encoded data removed]"
          },
          "metadata": {
            "needs_background": "light"
          }
        }
      ]
    },
    {
      "cell_type": "code",
      "source": [
        "# 9. Use LinearRegression model from linear_model of sklearn library, and train\n",
        "# the model using values of X1, and target y.\n",
        "from sklearn.linear_model import LinearRegression\n",
        "lin_reg = LinearRegression()\n",
        "lin_reg.fit(X1,y)"
      ],
      "metadata": {
        "colab": {
          "base_uri": "https://localhost:8080/"
        },
        "id": "xCtQQVVH95Z6",
        "outputId": "17d4d0f0-046d-4227-bc1a-30b50d97e0d2"
      },
      "execution_count": null,
      "outputs": [
        {
          "output_type": "execute_result",
          "data": {
            "text/plain": [
              "LinearRegression()"
            ]
          },
          "metadata": {},
          "execution_count": 9
        }
      ]
    },
    {
      "cell_type": "code",
      "source": [
        "#10. Show the value of intercept_ and coef_ of trained linear regression model\n",
        "print(\"Intercept: \",lin_reg.intercept_)\n",
        "print(\"Coefficient: \",lin_reg.coef_)"
      ],
      "metadata": {
        "colab": {
          "base_uri": "https://localhost:8080/"
        },
        "id": "4mfVilla99Ug",
        "outputId": "a0d5c889-c23d-4ab3-ed3b-45cb7dc2adb1"
      },
      "execution_count": null,
      "outputs": [
        {
          "output_type": "stream",
          "name": "stdout",
          "text": [
            "Intercept:  [4.51359766]\n",
            "Coefficient:  [[2.96646836]]\n"
          ]
        }
      ]
    },
    {
      "cell_type": "code",
      "source": [
        "# 11. Predict the values for a (given in 7) and show the predictions.\n",
        "lin_reg.predict(a)"
      ],
      "metadata": {
        "colab": {
          "base_uri": "https://localhost:8080/"
        },
        "id": "3gHXFwqz-ABb",
        "outputId": "eb301940-7352-4309-bfaf-682b6d724861"
      },
      "execution_count": null,
      "outputs": [
        {
          "output_type": "execute_result",
          "data": {
            "text/plain": [
              "array([[ 4.51359766],\n",
              "       [10.44653437]])"
            ]
          },
          "metadata": {},
          "execution_count": 11
        }
      ]
    },
    {
      "cell_type": "code",
      "source": [
        "#12. Plot the logistic regression. The formula for logistic regression is as␣\n",
        "#given below:\n",
        "import math\n",
        "def sigmoid(x):\n",
        "  y = []\n",
        "  for item in x:\n",
        "    y.append(1/(1+math.exp(-item)))\n",
        "  return y\n",
        "x = np.arange(-9., 8., 0.9) #take any random array\n",
        "sig = sigmoid(x)\n",
        "plt.plot(x,sig)\n",
        "plt.show()"
      ],
      "metadata": {
        "colab": {
          "base_uri": "https://localhost:8080/",
          "height": 265
        },
        "id": "eMJs0ZzY-DUX",
        "outputId": "53b1b132-3b26-4171-c059-faa38e7aa1d0"
      },
      "execution_count": null,
      "outputs": [
        {
          "output_type": "display_data",
          "data": {
            "text/plain": [
              "<Figure size 432x288 with 1 Axes>"
            ],
            "image/png": "[encoded data removed]"
          },
          "metadata": {
            "needs_background": "light"
          }
        }
      ]
    },
    {
      "cell_type": "code",
      "source": [
        "# 13. Download iris dataset from sklearn.datasets and store the data in X1 and\n",
        "# target in y1.Analyze the dataset by reading its description.\n",
        "from sklearn import datasets\n",
        "iris = datasets.load_iris()\n",
        "X1 = iris[\"data\"]\n",
        "y1 = iris[\"target\"]"
      ],
      "metadata": {
        "id": "VxnM6L4W-Iz2"
      },
      "execution_count": null,
      "outputs": []
    },
    {
      "cell_type": "code",
      "source": [
        "# 14. Store the data of petal length and petal width in X. Store values for\n",
        "# setosa or versicolor in y\n",
        "X = iris[\"data\"][:,2:] # petal length , petal width\n",
        "#store value for sentosa or versicolor\n",
        "y = ((iris[\"target\"]==0) | (iris[\"target\"]==1)).astype(int)"
      ],
      "metadata": {
        "id": "yL1IYklUBtkN"
      },
      "execution_count": null,
      "outputs": []
    },
    {
      "cell_type": "code",
      "source": [
        "# 15. Update X to store data for those flowers which have target setosa or\n",
        "# versicolor.(target =0 for setosa, and target = 1 for versicolor,\n",
        "# X=X[(y==0)|(y==1)] and same treatmentto y= y[(y==0)|(y==1)] )\n",
        "X=X[(y==0)|(y==1)]\n",
        "y= y[(y==0)|(y==1)]"
      ],
      "metadata": {
        "id": "7lFaSeQ1BynH"
      },
      "execution_count": null,
      "outputs": []
    },
    {
      "cell_type": "code",
      "source": [
        "# 16. Train SVM classifier model using linear “kernel”.\n",
        "# (hint SVC(kernel=\"linear\", C=float(\"inf\")) then use fit on X and y).\n",
        "from sklearn import svm\n",
        "s = svm.SVC(kernel ='linear' , C=1).fit(X,y)\n",
        "s"
      ],
      "metadata": {
        "colab": {
          "base_uri": "https://localhost:8080/"
        },
        "id": "3W03S7ELB2Sk",
        "outputId": "66b76594-61cd-4ff5-fbc7-39db0295fd77"
      },
      "execution_count": null,
      "outputs": [
        {
          "output_type": "execute_result",
          "data": {
            "text/plain": [
              "SVC(C=1, kernel='linear')"
            ]
          },
          "metadata": {},
          "execution_count": 24
        }
      ]
    }
  ]
}